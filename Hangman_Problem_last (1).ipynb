{
 "cells": [
  {
   "cell_type": "markdown",
   "id": "8ac9ba3d",
   "metadata": {},
   "source": [
    "# Game description\n",
    "Creating games in a Jupyter Notebook with Python can be a fun and educational experience, allowing you to visualize the game's output directly in the notebook cells. Here are some simple game ideas that are well-suited for implementation in a Jupyter Notebook environment. These games can be created using basic Python programming concepts such as loops, conditionals, functions, and data structures."
   ]
  },
  {
   "cell_type": "markdown",
   "id": "38963d4c",
   "metadata": {},
   "source": [
    "#### Learning Outcomes:\n",
    "\n",
    "- Understand and apply Python basics, including variables, loops, and conditionals.\n",
    "- Practice manipulating lists and strings in Python.\n",
    "- Develop problem-solving skills by implementing game logic.\n",
    "- Enhance user experience through clear and interactive prompts."
   ]
  },
  {
   "cell_type": "markdown",
   "id": "4aa57e62",
   "metadata": {},
   "source": [
    "## Hangman Game Notebook\n",
    "\n",
    "#### Problem Statement:\n",
    "In this Jupyter Notebook, you will develop and play a Hangman game. Hangman is a word-guessing game where players attempt to uncover a hidden word by suggesting letters.The objective is to guess a randomly selected word by suggesting letters.Sincethe word 'HANGMAN' has 7 letters, you can make 7 wrong guesses. Each letter correctly guessed will be revealed in its correct position in the word, while each incorrect guess will bring you closer to losing the game. The game requires you to implement Python programming concepts such as loops, conditionals, and lists. Your task is to complete the game logic, allowing for a dynamic experience where each game session presents a different word. Enhancements to the basic functionality, such as adding more words to the selection pool or improving user interaction feedback, are encouraged to make the game more engaging."
   ]
  },
  {
   "cell_type": "markdown",
   "id": "16207991",
   "metadata": {},
   "source": [
    "#### Functions to be implemented (Use the building blocks provided below in the sample code)\n",
    "\n",
    "1. In the choose_word function, you need to implement the logic to choose a random word from the given word_list and return it in uppercase.\n",
    "\n",
    "2. In the display_board function, you need to implement the logic to display the current state of the game board, including missed letters, correct letters, and underscores for unrevealed letters.\n",
    "\n",
    "3. In the get_guess function, you need to add logic to validate the user's input for a single letter.\n",
    "\n",
    "4. In the check_game_over function, you need to implement the logic to check if the game is over (whether the player won or lost)."
   ]
  },
  {
   "attachments": {
    "image-3.png": {
     "image/png": "[encoded data removed]"
    }
   },
   "cell_type": "markdown",
   "id": "14b5cc7a",
   "metadata": {},
   "source": [
    "### Sample of Output :-\n",
    "\n",
    "![image-3.png](attachment:image-3.png)\n",
    "\n",
    "\n",
    "In this fashion you have to take input letter from the user and if its right add it into the word and if it not correct than add it into missed letters."
   ]
  },
  {
   "cell_type": "markdown",
   "id": "8d087799",
   "metadata": {},
   "source": [
    "# Sample Code"
   ]
  },
  {
   "cell_type": "code",
   "execution_count": 2,
   "id": "33ef4a7e",
   "metadata": {},
   "outputs": [],
   "source": [
    "\n",
    "\n",
    "\n",
    "import random\n",
    "\n",
    "def choose_word(word_list):\n",
    "    # TODO: In the choose_word function, you need to implement the logic to \n",
    "    # choose a random word from the given word_list and return it in uppercase. \n",
    "    pass\n",
    "\n",
    "def display_board(missed_letters, correct_letters, secret_word):\n",
    "    # TODO: In the display_board function, you need to implement the logic to display the current state of the game board, \n",
    "    # including missed letters, correct letters, and underscores for unrevealed letters.\n",
    "    pass\n",
    "\n",
    "def get_guess(already_guessed):\n",
    "    while True:\n",
    "        guess = input(\"Guess a letter: \").upper()\n",
    "        # TODO:  In the get_guess function, you need to add logic to validate the user's input for a single letter.\n",
    "        pass\n",
    "\n",
    "def check_game_over(correct_letters, missed_letters, secret_word):\n",
    "    # TODO: In the check_game_over function, you need to implement the logic to check if the game is over (whether the player won or lost).\n",
    "    pass\n",
    "\n",
    "def play_again():\n",
    "    return input(\"\\nDo you want to play again? (yes or no): \").lower().startswith('y')\n",
    "\n",
    "def play():\n",
    "    word_list = [\"python\", \"jupyter\" , \"programming\", \"function\",\"Analytics\",\"Explore\",\"Generative\",\"Infinite\",\"Network\",\"Foundation\"]\n",
    "#     Feel free to addmore words in the aboove list\n",
    "    secret_word = choose_word(word_list)\n",
    "    missed_letters = []\n",
    "    correct_letters = []\n",
    "\n",
    "    while True:\n",
    "        display_board(missed_letters, correct_letters, secret_word)\n",
    "\n",
    "        guess = get_guess(missed_letters + correct_letters)\n",
    "\n",
    "        # TODO: Add logic to update correct_letters and missed_letters based on the guess\n",
    "\n",
    "        game_over = check_game_over(correct_letters, missed_letters, secret_word)\n",
    "\n",
    "        if game_over:\n",
    "            if play_again():\n",
    "                missed_letters = []\n",
    "                correct_letters = []\n",
    "                secret_word = choose_word(word_list)\n",
    "            else:\n",
    "                break"
   ]
  },
  {
   "cell_type": "code",
   "execution_count": null,
   "id": "73bbdef0",
   "metadata": {},
   "outputs": [],
   "source": []
  }
 ],
 "metadata": {
  "kernelspec": {
   "display_name": "Python 3 (ipykernel)",
   "language": "python",
   "name": "python3"
  },
  "language_info": {
   "codemirror_mode": {
    "name": "ipython",
    "version": 3
   },
   "file_extension": ".py",
   "mimetype": "text/x-python",
   "name": "python",
   "nbconvert_exporter": "python",
   "pygments_lexer": "ipython3",
   "version": "3.10.9"
  }
 },
 "nbformat": 4,
 "nbformat_minor": 5
}
