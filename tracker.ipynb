{
 "cells": [
  {
   "cell_type": "code",
   "execution_count": null,
   "id": "d77bc14f-bf1f-4848-98dd-fbf7118d72b7",
   "metadata": {
    "tags": []
   },
   "outputs": [],
   "source": [
    "global transactions\n",
    "transactions = []\n",
    "\n",
    "def add_transaction(amount, transaction_type):\n",
    "    global transactions\n",
    "    transactions.append(transaction)\n",
    "    {'milk':1000,'cloths':2000}\n",
    "    pass\n",
    "def calculate_summary():\n",
    "    global transactions\n",
    "    total_income=sum(transactions > 0)\n",
    "    total_espenses=sum(transactions < 0)\n",
    "    balance=total_income+total_expenses\n",
    "    \n",
    "    \n",
    "    return total_income,total_expense,balance\n",
    "while True:\n",
    "    transaction_type = input(\"Enter transaction type (income/expense) or 'done' to finish: \").lower()\n",
    "    if transaction_type == 'done':\n",
    "        break\n",
    "    elif transaction_type not in ['income', 'expense']:\n",
    "        print(\"Invalid transaction type. Please enter 'income', 'expense', or 'done'.\")\n",
    "        continue\n",
    "\n",
    "    try:\n",
    "        amount = float(input(\"Enter amount: \"))\n",
    "        if amount <= 0:\n",
    "            raise ValueError(\"The amount must be greater than 0.\")\n",
    "    except ValueError as e:\n",
    "        print(f\"Invalid amount: {e}\")\n",
    "        continue\n",
    "\n",
    "print(\"Total Income: Placeholder\")\n",
    "print(\"Total Expenses: Placeholder\")\n",
    "print(\"Balance: Placeholder\")\n"
   ]
  },
  {
   "cell_type": "code",
   "execution_count": null,
   "id": "ec140239-811e-496d-9789-2ecbcf6bfc84",
   "metadata": {},
   "outputs": [],
   "source": []
  },
  {
   "cell_type": "code",
   "execution_count": null,
   "id": "00d4d75e-e857-4930-b284-796d4f5f9d6d",
   "metadata": {},
   "outputs": [],
   "source": []
  }
 ],
 "metadata": {
  "kernelspec": {
   "display_name": "Python 3 (ipykernel)",
   "language": "python",
   "name": "python3"
  },
  "language_info": {
   "codemirror_mode": {
    "name": "ipython",
    "version": 3
   },
   "file_extension": ".py",
   "mimetype": "text/x-python",
   "name": "python",
   "nbconvert_exporter": "python",
   "pygments_lexer": "ipython3",
   "version": "3.11.5"
  }
 },
 "nbformat": 4,
 "nbformat_minor": 5
}
