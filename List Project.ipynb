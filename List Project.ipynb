{
 "cells": [
  {
   "cell_type": "code",
   "execution_count": 1,
   "id": "6d58bb6f",
   "metadata": {},
   "outputs": [],
   "source": [
    "student_marks = [['Name',  ['A','B','C','D','E']],\n",
    "                 ['Ankit',  [41, 34, 45, 55, 63]],\n",
    "                 ['Aravind',[42, 23, 34, 44, 53]],\n",
    "                 ['Lakshay',[32, 23, 13, 54, 67]],\n",
    "                 ['Gyan',   [23, 82, 23, 63, 34]],\n",
    "                 ['Pranav', [21, 23, 25, 56, 56]]\n",
    "                ]"
   ]
  },
  {
   "cell_type": "markdown",
   "id": "7d40aabd",
   "metadata": {},
   "source": [
    "# Q1. Who scored the highest marks in the subject B?"
   ]
  },
  {
   "cell_type": "code",
   "execution_count": 28,
   "id": "bc5cb068",
   "metadata": {},
   "outputs": [
    {
     "name": "stdout",
     "output_type": "stream",
     "text": [
      "Ankit 34\n",
      "Aravind 23\n",
      "Lakshay 23\n",
      "Gyan 82\n",
      "Pranav 23\n"
     ]
    }
   ],
   "source": [
    "for student in student_marks[1:]:\n",
    "    name = student[0]\n",
    "    marks_in_B = student[1][1]\n",
    "    \n",
    "    print(name, marks_in_B)"
   ]
  },
  {
   "cell_type": "code",
   "execution_count": 21,
   "id": "e62d0709",
   "metadata": {},
   "outputs": [],
   "source": [
    "student_with_marks_in_B = []\n",
    "\n",
    "for student in student_marks[1:]:\n",
    "    name = student[0]\n",
    "    marks_in_B = student[1][1]\n",
    "    \n",
    "    student_with_marks_in_B.append([marks_in_B,name])"
   ]
  },
  {
   "cell_type": "code",
   "execution_count": 5,
   "id": "b0e1d0cc",
   "metadata": {},
   "outputs": [
    {
     "data": {
      "text/plain": [
       "[[34, 'Ankit'], [23, 'Aravind'], [23, 'Lakshay'], [82, 'Gyan'], [23, 'Pranav']]"
      ]
     },
     "execution_count": 5,
     "metadata": {},
     "output_type": "execute_result"
    }
   ],
   "source": [
    "student_with_marks_in_B"
   ]
  },
  {
   "cell_type": "code",
   "execution_count": 6,
   "id": "7e8caa80",
   "metadata": {},
   "outputs": [
    {
     "data": {
      "text/plain": [
       "[[23, 'Aravind'], [23, 'Lakshay'], [23, 'Pranav'], [34, 'Ankit'], [82, 'Gyan']]"
      ]
     },
     "execution_count": 6,
     "metadata": {},
     "output_type": "execute_result"
    }
   ],
   "source": [
    "sorted(student_with_marks_in_B)"
   ]
  },
  {
   "cell_type": "code",
   "execution_count": 7,
   "id": "45f07690",
   "metadata": {},
   "outputs": [
    {
     "data": {
      "text/plain": [
       "'Gyan'"
      ]
     },
     "execution_count": 7,
     "metadata": {},
     "output_type": "execute_result"
    }
   ],
   "source": [
    "sorted(student_with_marks_in_B)[-1][1]"
   ]
  },
  {
   "cell_type": "markdown",
   "id": "8950572f",
   "metadata": {},
   "source": [
    "Ans. Gyan scored the highest marks in the subject B"
   ]
  },
  {
   "cell_type": "markdown",
   "id": "8827f2eb",
   "metadata": {},
   "source": [
    "# Q2. What is the average marks scored in the subject C?"
   ]
  },
  {
   "cell_type": "code",
   "execution_count": 63,
   "id": "5ff21b87",
   "metadata": {
    "scrolled": true
   },
   "outputs": [
    {
     "name": "stdout",
     "output_type": "stream",
     "text": [
      "45\n",
      "34\n",
      "13\n",
      "23\n",
      "25\n"
     ]
    }
   ],
   "source": [
    "for student in student_marks[1:]:\n",
    "    name = student[0]\n",
    "    marks_in_C = student[1][2]\n",
    "    \n",
    "    print(marks_in_C)"
   ]
  },
  {
   "cell_type": "markdown",
   "id": "58d372bb",
   "metadata": {},
   "source": [
    "# Q3. Who scored the highest percentage of marks?"
   ]
  },
  {
   "cell_type": "code",
   "execution_count": 48,
   "id": "6f05c5b0",
   "metadata": {},
   "outputs": [
    {
     "name": "stdout",
     "output_type": "stream",
     "text": [
      "Ankit [63, 55, 45, 41, 34] 238 47.599999999999994\n",
      "Aravind [53, 44, 42, 34, 23] 196 39.2\n",
      "Lakshay [67, 54, 32, 23, 13] 189 37.8\n",
      "Gyan [82, 63, 34, 23, 23] 225 45.0\n",
      "Pranav [56, 56, 25, 23, 21] 181 36.199999999999996\n"
     ]
    }
   ],
   "source": [
    "for student in student_marks[1:]:\n",
    "    name = student[0]\n",
    "    overall_sort = sorted(student[1],reverse = True)\n",
    "    total = sum(overall_sort)\n",
    "    percentage = total/500*100\n",
    "    \n",
    "    print(name,overall_sort,total,percentage)"
   ]
  },
  {
   "cell_type": "markdown",
   "id": "cafd3f9f",
   "metadata": {},
   "source": [
    "Ans. Ankit scored the highest percentage of marks"
   ]
  },
  {
   "cell_type": "markdown",
   "id": "f441ae0b",
   "metadata": {},
   "source": [
    "# Q4. If considered only top-4 subjects of a candidate, then who scored the highest percentage of marks?"
   ]
  },
  {
   "cell_type": "code",
   "execution_count": 60,
   "id": "e238139c",
   "metadata": {},
   "outputs": [
    {
     "name": "stdout",
     "output_type": "stream",
     "text": [
      "Ankit [63, 55, 45, 41, 34] 204 51.0\n",
      "Aravind [53, 44, 42, 34, 23] 173 43.25\n",
      "Lakshay [67, 54, 32, 23, 13] 176 44.0\n",
      "Gyan [82, 63, 34, 23, 23] 202 50.5\n",
      "Pranav [56, 56, 25, 23, 21] 160 40.0\n"
     ]
    }
   ],
   "source": [
    "for student in student_marks[1:]:\n",
    "    name = student[0]\n",
    "    overall_sort = sorted(student[1],reverse = True)\n",
    "    total = sum(overall_sort)-overall_sort[4]\n",
    "    percentage = total/400*100\n",
    "    \n",
    "    print(name,overall_sort,total,percentage)"
   ]
  },
  {
   "cell_type": "markdown",
   "id": "9019850e",
   "metadata": {},
   "source": [
    "Ans. In top 4 subject, Ankit scored the highest percentage of marks."
   ]
  },
  {
   "cell_type": "code",
   "execution_count": null,
   "id": "5e3091b7",
   "metadata": {},
   "outputs": [],
   "source": []
  }
 ],
 "metadata": {
  "kernelspec": {
   "display_name": "Python 3 (ipykernel)",
   "language": "python",
   "name": "python3"
  },
  "language_info": {
   "codemirror_mode": {
    "name": "ipython",
    "version": 3
   },
   "file_extension": ".py",
   "mimetype": "text/x-python",
   "name": "python",
   "nbconvert_exporter": "python",
   "pygments_lexer": "ipython3",
   "version": "3.11.4"
  }
 },
 "nbformat": 4,
 "nbformat_minor": 5
}
